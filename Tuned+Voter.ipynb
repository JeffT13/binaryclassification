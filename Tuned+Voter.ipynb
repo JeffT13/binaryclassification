{
 "cells": [
  {
   "cell_type": "markdown",
   "metadata": {},
   "source": [
    "# Tuned Models & Voting\n",
    "\n",
    "## Tuned:\n",
    "\n",
    "### Decision Trees\n",
    "\n",
    " - standard data & upsampled (Performed Better)\n",
    "     - show predict_proba vs predict\n",
    "     - Xval prone to overfitting upsample\n",
    "     \n",
    "### Logistic Regression\n",
    "\n",
    "- show for standard\n",
    "\n",
    "## RF?\n",
    "\n",
    "\n",
    " \n",
    "## Voting\n",
    "\n",
    "- DT + LR from std\n",
    "\n",
    "     - predict proba only*"
   ]
  },
  {
   "cell_type": "markdown",
   "metadata": {},
   "source": [
    "## Imports"
   ]
  },
  {
   "cell_type": "code",
   "execution_count": 2,
   "metadata": {},
   "outputs": [],
   "source": [
    "#import modules\n",
    "\n",
    "#SKLearn\n",
    "import sklearn.model_selection as sk\n",
    "import sklearn.metrics as m\n",
    "from sklearn import ensemble as e\n",
    "from sklearn import svm, linear_model, cluster\n",
    "from sklearn.tree import DecisionTreeClassifier\n",
    "from sklearn.neighbors import KNeighborsClassifier\n",
    "\n",
    "#Else\n",
    "import sys\n",
    "import pandas as pd\n",
    "import math\n",
    "import numpy as np\n",
    "import warnings\n",
    "import matplotlib.pyplot as plt\n",
    "import seaborn as sns\n",
    "\n",
    "warnings.filterwarnings('default')\n",
    "\n",
    "#full dfs\n",
    "%store -r df \n",
    "%store -r scaled_df\n",
    "%store -r fe_df\n",
    "%store -r df_upsampled\n",
    "\n",
    "%store -r x_tr\n",
    "%store -r y_tr\n",
    "%store -r x_te\n",
    "%store -r y_te\n",
    "\n",
    "%store -r xs_tr\n",
    "%store -r ys_tr\n",
    "%store -r xs_te\n",
    "%store -r ys_te\n",
    "\n",
    "%store -r x_fetr\n",
    "%store -r y_fetr\n",
    "%store -r x_fete\n",
    "%store -r y_fete\n",
    "%store -r xs_fetr\n",
    "%store -r ys_fetr\n",
    "%store -r xs_fete\n",
    "%store -r ys_fete\n",
    "\n",
    "%store -r x_uptr\n",
    "%store -r y_uptr\n",
    "%store -r x_upte\n",
    "%store -r y_upte\n",
    "%store -r xs_uptr\n",
    "%store -r ys_uptr\n",
    "%store -r xs_upte\n",
    "%store -r ys_upte\n",
    "\n",
    "%store -r cols\n",
    "%store -r fe_cols\n",
    "%store -r testsizepercent\n",
    "%store -r th\n",
    "%store -r sd"
   ]
  },
  {
   "cell_type": "markdown",
   "metadata": {},
   "source": [
    "## Functions"
   ]
  },
  {
   "cell_type": "code",
   "execution_count": 4,
   "metadata": {},
   "outputs": [],
   "source": [
    "\n",
    "def threshold(val, posval):\n",
    "    return [1 if i>posval else 0 for i in val]\n",
    "\n",
    "def plotAUC(truth, pred, lab, thresh):\n",
    "    fpr, tpr, thresholds = m.roc_curve(truth, threshold(pred, thresh))\n",
    "    roc_auc = m.auc(fpr, tpr)\n",
    "    c = (np.random.rand(), np.random.rand(), np.random.rand())\n",
    "    plt.plot(fpr, tpr, color=c, label= lab+' (AUC = %0.2f)' % roc_auc)\n",
    "    plt.plot([0, 1], [0, 1], 'k--')\n",
    "    plt.xlim([0.0, 1.0])\n",
    "    plt.ylim([0.0, 1.0])\n",
    "    plt.xlabel('FPR')\n",
    "    plt.ylabel('TPR')\n",
    "    plt.title('ROC')\n",
    "    plt.legend(loc=\"lower right\")\n",
    "    rets =  [fpr, tpr]\n",
    "    return\n",
    "\n",
    "\n",
    "\n",
    "def plot_scores(truth, pred, lab, thresh, rnd, out=False):\n",
    "    #Scores\n",
    "    acc_score = m.accuracy_score(truth, threshold(pred, thresh), normalize=True).round(rnd)\n",
    "    prec_score = m.precision_score(truth, threshold(pred, thresh)).round(rnd)\n",
    "    rec_score = m.recall_score(truth, threshold(pred, thresh)).round(rnd)\n",
    "    f_score = m.f1_score(truth, threshold(pred, thresh)).round(rnd)\n",
    "    avg_precision = m.average_precision_score(truth, threshold(pred, thresh)).round(rnd)\n",
    "    rets = [acc_score, prec_score, rec_score, f_score, avg_precision]\n",
    "    if out==True:\n",
    "        print(lab, 'Average accuracy score: {0:0.2f}'.format(acc_score))\n",
    "        print(lab, 'Average precision score: {0:0.2f}'.format(prec_score))\n",
    "        print(lab, 'Average recall score: {0:0.2f}'.format(rec_score))\n",
    "        print(lab, 'Average F1 score: {0:0.2f}'.format(f_score))\n",
    "        print(lab, 'Average precision-recall score: {0:0.2f}'.format(avg_precision))\n",
    "        print(\"---\")\n",
    "    return rets"
   ]
  },
  {
   "cell_type": "markdown",
   "metadata": {},
   "source": [
    "## Decision Tree"
   ]
  },
  {
   "cell_type": "code",
   "execution_count": 16,
   "metadata": {},
   "outputs": [
    {
     "name": "stdout",
     "output_type": "stream",
     "text": [
      "DT_Tuned - std Average accuracy score: 0.75\n",
      "DT_Tuned - std Average precision score: 0.91\n",
      "DT_Tuned - std Average recall score: 0.69\n",
      "DT_Tuned - std Average F1 score: 0.78\n",
      "DT_Tuned - std Average precision-recall score: 0.83\n",
      "---\n"
     ]
    }
   ],
   "source": [
    "#Tuned DT on standard class\n",
    "\n",
    "dt_s1 = DecisionTreeClassifier(criterion='entropy', \n",
    "                               min_samples_split=120,\n",
    "                               min_samples_leaf = 25,\n",
    "                               max_features = 'auto', \n",
    "                               max_depth=72)\n",
    "\n",
    "dt_s1f = dt_s1.fit(xs_tr, ys_tr)\n",
    "\n",
    "b = plot_scores(ys_te, dt_s1f.predict_proba(xs_te)[:,1], \n",
    "                'DT_Tuned - std', th, sd, out=True)"
   ]
  },
  {
   "cell_type": "code",
   "execution_count": 17,
   "metadata": {},
   "outputs": [
    {
     "name": "stdout",
     "output_type": "stream",
     "text": [
      "DT_Tuned - up Average accuracy score: 0.78\n",
      "DT_Tuned - up Average precision score: 0.91\n",
      "DT_Tuned - up Average recall score: 0.61\n",
      "DT_Tuned - up Average F1 score: 0.73\n",
      "DT_Tuned - up Average precision-recall score: 0.75\n",
      "---\n"
     ]
    },
    {
     "data": {
      "image/png": "[encoded data removed]",
      "text/plain": [
       "<Figure size 432x288 with 1 Axes>"
      ]
     },
     "metadata": {
      "needs_background": "light"
     },
     "output_type": "display_data"
    }
   ],
   "source": [
    "#Tuned DT on upsample\n",
    "dt_up1 = DecisionTreeClassifier(criterion='entropy', \n",
    "                               min_samples_split=25,\n",
    "                               min_samples_leaf = 25,\n",
    "                               max_features = 'auto', \n",
    "                               max_depth=100)\n",
    "\n",
    "dt_up1f = dt_up1.fit(xs_uptr, ys_uptr)\n",
    "\n",
    "b = plot_scores(ys_upte, dt_up1f.predict_proba(xs_upte)[:,1], \n",
    "                'DT_Tuned - up', th, sd, out=True)\n",
    "\n",
    "plotAUC(ys_upte, dt_up1f.predict_proba(xs_upte)[:,1], 'DT_Tuned - up', th)\n"
   ]
  },
  {
   "cell_type": "markdown",
   "metadata": {},
   "source": [
    "## Logistic Regression"
   ]
  },
  {
   "cell_type": "code",
   "execution_count": 32,
   "metadata": {},
   "outputs": [
    {
     "ename": "NameError",
     "evalue": "name 'LogisticRegression' is not defined",
     "output_type": "error",
     "traceback": [
      "\u001b[1;31m---------------------------------------------------------------------------\u001b[0m",
      "\u001b[1;31mNameError\u001b[0m                                 Traceback (most recent call last)",
      "\u001b[1;32m<ipython-input-32-17d32bda3dc1>\u001b[0m in \u001b[0;36m<module>\u001b[1;34m\u001b[0m\n\u001b[1;32m----> 1\u001b[1;33m lr_s1 = LogisticRegression(solver='liblinear', \n\u001b[0m\u001b[0;32m      2\u001b[0m                                         \u001b[0mpenalty\u001b[0m\u001b[1;33m=\u001b[0m\u001b[1;34m'l1'\u001b[0m\u001b[1;33m,\u001b[0m\u001b[1;33m\u001b[0m\u001b[1;33m\u001b[0m\u001b[0m\n\u001b[0;32m      3\u001b[0m                                         \u001b[0mC\u001b[0m\u001b[1;33m=\u001b[0m\u001b[1;36m1\u001b[0m\u001b[1;33m,\u001b[0m\u001b[1;33m\u001b[0m\u001b[1;33m\u001b[0m\u001b[0m\n\u001b[0;32m      4\u001b[0m                                         max_iter=500)\n\u001b[0;32m      5\u001b[0m \u001b[1;33m\u001b[0m\u001b[0m\n",
      "\u001b[1;31mNameError\u001b[0m: name 'LogisticRegression' is not defined"
     ]
    }
   ],
   "source": [
    "lr_s1 = linear_model.LogisticRegression(solver='liblinear', \n",
    "                                        penalty='l1', \n",
    "                                        C=1, \n",
    "                                        max_iter=500)\n",
    "\n",
    "lr_s1f = lr_s1.fit(xs_tr, ys_tr)\n",
    "\n",
    "b = plot_scores(ys_te, lr_s1f.predict_proba(xs_te)[:,1], \n",
    "                'LR_Tuned - std', th, sd, out=True)\n",
    "\n"
   ]
  },
  {
   "cell_type": "markdown",
   "metadata": {},
   "source": [
    "## Random Forest"
   ]
  },
  {
   "cell_type": "code",
   "execution_count": 23,
   "metadata": {},
   "outputs": [
    {
     "name": "stderr",
     "output_type": "stream",
     "text": [
      "C:\\Users\\Jeffs Laptop\\.conda\\envs\\pfds\\lib\\site-packages\\sklearn\\ensemble\\forest.py:245: FutureWarning: The default value of n_estimators will change from 10 in version 0.20 to 100 in 0.22.\n",
      "  \"10 in version 0.20 to 100 in 0.22.\", FutureWarning)\n"
     ]
    },
    {
     "name": "stdout",
     "output_type": "stream",
     "text": [
      "RF_Tuned - up Average accuracy score: 0.84\n",
      "RF_Tuned - up Average precision score: 0.90\n",
      "RF_Tuned - up Average recall score: 0.76\n",
      "RF_Tuned - up Average F1 score: 0.82\n",
      "RF_Tuned - up Average precision-recall score: 0.80\n",
      "---\n"
     ]
    }
   ],
   "source": [
    "#Tuned RF \n",
    "\n",
    "rf_s1 = e.RandomForestClassifier(criterion='entropy', \n",
    "                               min_samples_split=40,\n",
    "                               min_samples_leaf = 15,\n",
    "                               max_features = 'auto', \n",
    "                               max_depth=150)\n",
    "rf_s1f = rf_s1.fit(xs_tr, ys_tr)\n",
    "\n",
    "b = plot_scores(ys_upte, rf_s1f.predict_proba(xs_upte)[:,1], \n",
    "                'RF_Tuned - up', th, sd, out=True)\n"
   ]
  },
  {
   "cell_type": "markdown",
   "metadata": {},
   "source": [
    "## PLOT"
   ]
  },
  {
   "cell_type": "code",
   "execution_count": 30,
   "metadata": {},
   "outputs": [
    {
     "data": {
      "image/png": "[encoded data removed]",
      "text/plain": [
       "<Figure size 432x288 with 1 Axes>"
      ]
     },
     "metadata": {
      "needs_background": "light"
     },
     "output_type": "display_data"
    }
   ],
   "source": [
    "plotAUC(ys_te, dt_s1f.predict_proba(xs_te)[:,1], 'DT_Tuned - std', th)\n",
    "plotAUC(ys_te, lr_s1f.predict_proba(xs_te)[:,1], 'LR_Tuned - std', th)\n",
    "plotAUC(ys_upte, rf_s1f.predict_proba(xs_upte)[:,1], 'RF_Tuned - std', th)"
   ]
  },
  {
   "cell_type": "markdown",
   "metadata": {},
   "source": [
    "## Voting Classifier"
   ]
  },
  {
   "cell_type": "code",
   "execution_count": 28,
   "metadata": {},
   "outputs": [
    {
     "name": "stdout",
     "output_type": "stream",
     "text": [
      "Stacked Voter Average accuracy score: 0.86\n",
      "Stacked Voter Average precision score: 0.86\n",
      "Stacked Voter Average recall score: 0.94\n",
      "Stacked Voter Average F1 score: 0.90\n",
      "Stacked Voter Average precision-recall score: 0.85\n",
      "---\n"
     ]
    },
    {
     "data": {
      "image/png": "[encoded data removed]",
      "text/plain": [
       "<Figure size 432x288 with 1 Axes>"
      ]
     },
     "metadata": {
      "needs_background": "light"
     },
     "output_type": "display_data"
    }
   ],
   "source": [
    " \n",
    "vote = e.VotingClassifier(estimators=[('lr', lr_s1), ('DT', dt_s1), ('RF', rf_s1)], voting='hard').fit(xs_tr, ys_tr)\n",
    "\n",
    "v = plot_scores(ys_te, vote.predict(xs_te), \n",
    "                'Stacked Voter', th, sd, out=True)\n",
    "\n",
    "plotAUC(ys_te, vote.predict(xs_te), 'Vote', th)"
   ]
  },
  {
   "cell_type": "code",
   "execution_count": null,
   "metadata": {},
   "outputs": [],
   "source": []
  }
 ],
 "metadata": {
  "kernelspec": {
   "display_name": "Python 3",
   "language": "python",
   "name": "python3"
  },
  "language_info": {
   "codemirror_mode": {
    "name": "ipython",
    "version": 3
   },
   "file_extension": ".py",
   "mimetype": "text/x-python",
   "name": "python",
   "nbconvert_exporter": "python",
   "pygments_lexer": "ipython3",
   "version": "3.7.4"
  }
 },
 "nbformat": 4,
 "nbformat_minor": 2
}
